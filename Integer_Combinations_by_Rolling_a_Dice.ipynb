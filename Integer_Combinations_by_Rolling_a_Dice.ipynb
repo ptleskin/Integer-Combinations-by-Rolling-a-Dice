{
  "cells": [
    {
      "cell_type": "markdown",
      "metadata": {
        "id": "view-in-github",
        "colab_type": "text"
      },
      "source": [
        "<a href=\"https://colab.research.google.com/github/ptleskin/Integer-Combinations-by-Rolling-a-Dice/blob/main/Integer_Combinations_by_Rolling_a_Dice.ipynb\" target=\"_parent\"><img src=\"https://colab.research.google.com/assets/colab-badge.svg\" alt=\"Open In Colab\"/></a>"
      ]
    },
    {
      "cell_type": "markdown",
      "source": [
        "# Installs and imports"
      ],
      "metadata": {
        "id": "bEwSx_ezzJQg"
      }
    },
    {
      "cell_type": "code",
      "execution_count": null,
      "metadata": {
        "colab": {
          "base_uri": "https://localhost:8080/"
        },
        "id": "nxXEeXTIEmKT",
        "outputId": "f502725e-b3ee-44e6-9164-64315ae01511"
      },
      "outputs": [
        {
          "output_type": "stream",
          "name": "stdout",
          "text": [
            "Requirement already satisfied: sympy in /usr/local/lib/python3.10/dist-packages (1.12)\n",
            "Requirement already satisfied: mpmath>=0.19 in /usr/local/lib/python3.10/dist-packages (from sympy) (1.3.0)\n"
          ]
        }
      ],
      "source": [
        "!pip install sympy"
      ]
    },
    {
      "cell_type": "code",
      "execution_count": null,
      "metadata": {
        "id": "IIlpIPtwEu3t"
      },
      "outputs": [],
      "source": [
        "from collections import Counter, defaultdict\n",
        "from itertools import product\n",
        "import sympy as sp\n",
        "from sympy.abc import f, x, k"
      ]
    },
    {
      "cell_type": "code",
      "source": [
        "def printCoeffs(f) -> None:\n",
        "  lst = sp.Poly(f).all_coeffs()\n",
        "  for i, c in enumerate(lst, start=1):\n",
        "    if c:\n",
        "      print(f'{len(lst)-i} can be achieved in {c} {\"different ways\" if c>1 else \"way\"}')"
      ],
      "metadata": {
        "id": "zyEpXetQ11BU"
      },
      "execution_count": null,
      "outputs": []
    },
    {
      "cell_type": "markdown",
      "source": [
        "# Integer Combinations by Rolling a Dice\n",
        "\n",
        "The idea for the problem solving in this colab come from a question in a Facebook post:\n",
        "\n",
        "*Using a standard six-sided die, it is possible to obtain a specific sum by rolling the die one or more times. For instance, the sum of 3 can be achieved in four ways: $1+1+1$, $1+2$, $2+1$, and $3$. How many different ways are there to obtain the sum of $7$?*\n"
      ],
      "metadata": {
        "id": "wPZmuSPBiZOa"
      }
    },
    {
      "cell_type": "markdown",
      "source": [
        "## Solution by brute force simulation"
      ],
      "metadata": {
        "id": "xW0sxv7ezWgF"
      }
    },
    {
      "cell_type": "code",
      "source": [
        "# numbers as on the faces of a dice:\n",
        "pips = [1, 2, 3, 4, 5, 6]\n",
        "\n",
        "'''\n",
        "Simulate throwing 1 to 10 dices, calculate the sum of pips and increase that value in dictionary cn\n",
        "'''\n",
        "cn = defaultdict(int)\n",
        "\n",
        "for number_of_dice in range(1,11):\n",
        "  for k in product(pips, repeat=number_of_dice):\n",
        "    cn[sum(k)] += 1\n",
        "\n",
        "for k,v in cn.items():\n",
        "  if k<11:\n",
        "    print(f'Total sum of {k} can achieved in {v} {\"different ways\" if k>1 else \"way\"}.')"
      ],
      "metadata": {
        "colab": {
          "base_uri": "https://localhost:8080/"
        },
        "id": "GZ3ABLqziq-o",
        "outputId": "9bdacfe3-1f0f-4c92-ac3d-f45e1660f77d"
      },
      "execution_count": null,
      "outputs": [
        {
          "output_type": "stream",
          "name": "stdout",
          "text": [
            "Total sum of 1 can achieved in 1 way.\n",
            "Total sum of 2 can achieved in 2 different ways.\n",
            "Total sum of 3 can achieved in 4 different ways.\n",
            "Total sum of 4 can achieved in 8 different ways.\n",
            "Total sum of 5 can achieved in 16 different ways.\n",
            "Total sum of 6 can achieved in 32 different ways.\n",
            "Total sum of 7 can achieved in 63 different ways.\n",
            "Total sum of 8 can achieved in 125 different ways.\n",
            "Total sum of 9 can achieved in 248 different ways.\n",
            "Total sum of 10 can achieved in 492 different ways.\n"
          ]
        }
      ]
    },
    {
      "cell_type": "markdown",
      "source": [
        "## Solution by using a generating polynomial\n",
        "\n",
        "Generating function for throwing one dice with resulting values {1, 2, 3, 4, 5, 6} is given by the polynomial\n",
        "\n",
        "$f(x) = 1 \\cdot x + 1 \\cdot x^2 + 1 \\cdot x^3 + 1 \\cdot x^4 + 1 \\cdot x^5 + 1 \\cdot x^6 $\n",
        "\n",
        "The coefficients for all powers of $x$ is $1$ so there is only one way to achieve each value .\n",
        "\n",
        "Furthermore, the possible output of throwing two dice by\n",
        "\n",
        "$f(x)^2 = 1 \\cdot x^2 + 2 \\cdot x^3 + 3 \\cdot x^4 + 4 \\cdot x^5 + 5 \\cdot x^6 + 6 \\cdot x^7 + 5 \\cdot x^8 + 4 \\cdot x^9 + 3 \\cdot x^{10} + 2 \\cdot x^{11} + 1 \\cdot x^{12}$\n",
        "\n",
        "meaning that, e.g., value of $4$ can be achieved in 3 different ways $(1+3, 2+2, 3+1)$ or likewise number $7$ in $6$ different ways.\n",
        "\n"
      ],
      "metadata": {
        "id": "xBWL-mWnrsR7"
      }
    },
    {
      "cell_type": "code",
      "source": [
        "'''\n",
        "generating function for throwing one dice\n",
        "'''\n",
        "f = x**6 + x**5 + x**4 + x**3 + x**2 + x\n",
        "\n",
        "printCoeffs(f)"
      ],
      "metadata": {
        "colab": {
          "base_uri": "https://localhost:8080/"
        },
        "id": "NWqR2wIImX1o",
        "outputId": "93fbe24b-2032-4b64-ce67-36d6b810c470"
      },
      "execution_count": null,
      "outputs": [
        {
          "output_type": "stream",
          "name": "stdout",
          "text": [
            "6 can be achieved in 1 way\n",
            "5 can be achieved in 1 way\n",
            "4 can be achieved in 1 way\n",
            "3 can be achieved in 1 way\n",
            "2 can be achieved in 1 way\n",
            "1 can be achieved in 1 way\n"
          ]
        }
      ]
    },
    {
      "cell_type": "code",
      "source": [
        "'''\n",
        "generating function for throwing a dice for 2 times:\n",
        "'''\n",
        "printCoeffs(f**2)"
      ],
      "metadata": {
        "colab": {
          "base_uri": "https://localhost:8080/"
        },
        "id": "GwuayYfI0J7n",
        "outputId": "f2c38b80-2c24-4283-95f7-ff2a360eddec"
      },
      "execution_count": null,
      "outputs": [
        {
          "output_type": "stream",
          "name": "stdout",
          "text": [
            "12 can be achieved in 1 way\n",
            "11 can be achieved in 2 different ways\n",
            "10 can be achieved in 3 different ways\n",
            "9 can be achieved in 4 different ways\n",
            "8 can be achieved in 5 different ways\n",
            "7 can be achieved in 6 different ways\n",
            "6 can be achieved in 5 different ways\n",
            "5 can be achieved in 4 different ways\n",
            "4 can be achieved in 3 different ways\n",
            "3 can be achieved in 2 different ways\n",
            "2 can be achieved in 1 way\n"
          ]
        }
      ]
    },
    {
      "cell_type": "code",
      "source": [
        "'''\n",
        "generating function for throwing a dice for 1, 2, or 3 times:\n",
        "'''\n",
        "printCoeffs(f + f**2 + f**3)"
      ],
      "metadata": {
        "colab": {
          "base_uri": "https://localhost:8080/"
        },
        "id": "fUCSpnYNuZyD",
        "outputId": "b0f7db4f-5f5c-4ee0-a0ff-26938ee1dd0c"
      },
      "execution_count": null,
      "outputs": [
        {
          "output_type": "stream",
          "name": "stdout",
          "text": [
            "18 can be achieved in 1 way\n",
            "17 can be achieved in 3 different ways\n",
            "16 can be achieved in 6 different ways\n",
            "15 can be achieved in 10 different ways\n",
            "14 can be achieved in 15 different ways\n",
            "13 can be achieved in 21 different ways\n",
            "12 can be achieved in 26 different ways\n",
            "11 can be achieved in 29 different ways\n",
            "10 can be achieved in 30 different ways\n",
            "9 can be achieved in 29 different ways\n",
            "8 can be achieved in 26 different ways\n",
            "7 can be achieved in 21 different ways\n",
            "6 can be achieved in 16 different ways\n",
            "5 can be achieved in 11 different ways\n",
            "4 can be achieved in 7 different ways\n",
            "3 can be achieved in 4 different ways\n",
            "2 can be achieved in 2 different ways\n",
            "1 can be achieved in 1 way\n"
          ]
        }
      ]
    },
    {
      "cell_type": "markdown",
      "source": [
        "### Throwing dice for arbitrary times"
      ],
      "metadata": {
        "id": "bMvjc6OG56Lk"
      }
    },
    {
      "cell_type": "markdown",
      "source": [
        "Calculating the number of all possible values of throwing a dice an arbitrary $N \\in [1, \\infty]$ times is given by the sum of the geometric series:\n",
        "\n",
        "$\\sum_{n = 1}^{\\infty} f(x)^n = \\frac{f(x)}{1-f(x)}$"
      ],
      "metadata": {
        "id": "ElBDT9N5rQfy"
      }
    },
    {
      "cell_type": "code",
      "source": [
        "sp.series(f/(1-f), x, 0, 20)"
      ],
      "metadata": {
        "colab": {
          "base_uri": "https://localhost:8080/",
          "height": 60
        },
        "id": "cJ-e-e2MqcYo",
        "outputId": "2f6d3911-c900-432b-b68f-85b8285ecbcf"
      },
      "execution_count": null,
      "outputs": [
        {
          "output_type": "execute_result",
          "data": {
            "text/plain": [
              "x + 2*x**2 + 4*x**3 + 8*x**4 + 16*x**5 + 32*x**6 + 63*x**7 + 125*x**8 + 248*x**9 + 492*x**10 + 976*x**11 + 1936*x**12 + 3840*x**13 + 7617*x**14 + 15109*x**15 + 29970*x**16 + 59448*x**17 + 117920*x**18 + 233904*x**19 + O(x**20)"
            ],
            "text/latex": "$\\displaystyle x + 2 x^{2} + 4 x^{3} + 8 x^{4} + 16 x^{5} + 32 x^{6} + 63 x^{7} + 125 x^{8} + 248 x^{9} + 492 x^{10} + 976 x^{11} + 1936 x^{12} + 3840 x^{13} + 7617 x^{14} + 15109 x^{15} + 29970 x^{16} + 59448 x^{17} + 117920 x^{18} + 233904 x^{19} + O\\left(x^{20}\\right)$"
          },
          "metadata": {},
          "execution_count": 8
        }
      ]
    },
    {
      "cell_type": "markdown",
      "source": [
        "So, looking at the coefficient of the term $8x^4$ reveals that the result 4 can be achieved in the following 8 different ways:\n",
        "$(1+1+1+1, 1+1+2, 1+2+1, 2+1+1, 3+1, 2+2, 1+3, 4)$"
      ],
      "metadata": {
        "id": "MNwtJDK5w9m_"
      }
    },
    {
      "cell_type": "markdown",
      "source": [
        "So the generating function has coefficients $[1,2,4,8,16,32,63,126,\\dots]$ but why does this series diverge from the powers of two when $n \\geq 7$?\n",
        "\n",
        "To study that let's have a look at the case by a polynomial long division. First we will write the geometric sum as a rational function:\n",
        "\n",
        "$f(x) = x^6 + x^5 + x^4 +x^3 + x^2 + x = \\frac{x^7-x}{x-1}$\n",
        "\n",
        "$\\sum_{n = 1}^{\\infty} f(x)^n = \\frac{f(x)}{1-f(x)} = \\frac{\\frac{x^7-x}{x-1}}{1-\\frac{x^7-x}{x-1}} = \\frac{x^7-x}{x-1-(x^7-x)} = \\frac{x-x^7}{1-2x+x^7}$\n",
        "\n",
        "By applying a polynomial long division we will get:\n",
        "\n",
        "<img width=\"600px\" src=\"https://raw.githubusercontent.com/ptleskin/Integer-Combinations-by-Rolling-a-Dice/main/images/long_division.png\">\n",
        "\n",
        "So the term of highest degrees $x^7$ causes the series to diverge from the powers of two after $n=7$.\n",
        "\n",
        "Generally, the plain generating function of $\\frac{1}{1-2x}$ would generate the powers of two:"
      ],
      "metadata": {
        "id": "NNOJUPHYVekV"
      }
    },
    {
      "cell_type": "code",
      "source": [
        "sp.series(1/(1-2*x), x, 0, 10)"
      ],
      "metadata": {
        "colab": {
          "base_uri": "https://localhost:8080/",
          "height": 39
        },
        "id": "XVckCj4Av_ue",
        "outputId": "aa2d4fcf-89a0-463a-db89-b2ef092d052a"
      },
      "execution_count": null,
      "outputs": [
        {
          "output_type": "execute_result",
          "data": {
            "text/plain": [
              "1 + 2*x + 4*x**2 + 8*x**3 + 16*x**4 + 32*x**5 + 64*x**6 + 128*x**7 + 256*x**8 + 512*x**9 + O(x**10)"
            ],
            "text/latex": "$\\displaystyle 1 + 2 x + 4 x^{2} + 8 x^{3} + 16 x^{4} + 32 x^{5} + 64 x^{6} + 128 x^{7} + 256 x^{8} + 512 x^{9} + O\\left(x^{10}\\right)$"
          },
          "metadata": {},
          "execution_count": 9
        }
      ]
    }
  ],
  "metadata": {
    "accelerator": "GPU",
    "colab": {
      "gpuType": "T4",
      "provenance": [],
      "collapsed_sections": [
        "bEwSx_ezzJQg"
      ],
      "authorship_tag": "ABX9TyPf02ffjlVvw2FDmx7aXOXq",
      "include_colab_link": true
    },
    "kernelspec": {
      "display_name": "Python 3",
      "name": "python3"
    },
    "language_info": {
      "name": "python"
    }
  },
  "nbformat": 4,
  "nbformat_minor": 0
}